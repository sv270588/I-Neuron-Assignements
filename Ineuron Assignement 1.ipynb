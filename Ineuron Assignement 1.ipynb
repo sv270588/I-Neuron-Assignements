{
 "cells": [
  {
   "cell_type": "markdown",
   "id": "cbf39095",
   "metadata": {},
   "source": [
    "1. In the below elements which of them are values or an expression? eg:- values can be\n",
    "integer or string and expressions will be mathematical operators.\n",
    "\n",
    "*\n",
    "&#39;hello&#39;\n",
    "-87.8\n",
    "-\n",
    "/\n",
    "+\n",
    "6"
   ]
  },
  {
   "cell_type": "markdown",
   "id": "040a1e69",
   "metadata": {},
   "source": [
    "# Answer:\n",
    "### Values : \"hello\", -87.8, 6\n",
    "\n",
    "### expression : *, -, /, +"
   ]
  },
  {
   "cell_type": "markdown",
   "id": "8a38e686",
   "metadata": {},
   "source": [
    "2. What is the difference between string and variable?"
   ]
  },
  {
   "cell_type": "markdown",
   "id": "84a095e0",
   "metadata": {},
   "source": [
    "### String is a value inside a single or double quote\n",
    "### Variable is the name of the location where value is recorded , the value can be string, number, Boolean, Decimal or anything"
   ]
  },
  {
   "cell_type": "markdown",
   "id": "80d89f36",
   "metadata": {},
   "source": [
    "3. Describe three different data types."
   ]
  },
  {
   "cell_type": "markdown",
   "id": "dfcb71fc",
   "metadata": {},
   "source": [
    "### string, int, Boolean"
   ]
  },
  {
   "cell_type": "markdown",
   "id": "21600a7f",
   "metadata": {},
   "source": [
    "4. What is an expression made up of? What do all expressions do?"
   ]
  },
  {
   "cell_type": "markdown",
   "id": "c80a3e37",
   "metadata": {},
   "source": [
    "### An expression is a combination of operators and operands that is interpreted to produce some other value"
   ]
  },
  {
   "cell_type": "markdown",
   "id": "b403e346",
   "metadata": {},
   "source": [
    "5. This assignment statements, like spam = 10. What is the difference between an\n",
    "expression and a statement?"
   ]
  },
  {
   "cell_type": "markdown",
   "id": "7f3b219c",
   "metadata": {},
   "source": [
    "### statement spam is a variable and expression is the combination of operators and operands ex: a + b - c is an expression"
   ]
  },
  {
   "cell_type": "markdown",
   "id": "62112f2b",
   "metadata": {},
   "source": [
    "6. After running the following code, what does the variable bacon contain?\n",
    "bacon = 22\n",
    "bacon + 1"
   ]
  },
  {
   "cell_type": "code",
   "execution_count": 3,
   "id": "ea48e314",
   "metadata": {},
   "outputs": [
    {
     "data": {
      "text/plain": [
       "23"
      ]
     },
     "execution_count": 3,
     "metadata": {},
     "output_type": "execute_result"
    }
   ],
   "source": [
    "bacon = 22\n",
    "bacon + 1 "
   ]
  },
  {
   "cell_type": "markdown",
   "id": "889e9215",
   "metadata": {},
   "source": [
    "7. What should the values of the following two terms be?\n",
    "&#39;spam&#39; + &#39;spamspam&#39;\n",
    "&#39;spam&#39; * 3"
   ]
  },
  {
   "cell_type": "code",
   "execution_count": 4,
   "id": "ae638b54",
   "metadata": {},
   "outputs": [
    {
     "data": {
      "text/plain": [
       "'spamspamspam'"
      ]
     },
     "execution_count": 4,
     "metadata": {},
     "output_type": "execute_result"
    }
   ],
   "source": [
    "'spam'+'spamspam'"
   ]
  },
  {
   "cell_type": "code",
   "execution_count": 5,
   "id": "e5242f64",
   "metadata": {},
   "outputs": [
    {
     "data": {
      "text/plain": [
       "'spamspamspam'"
      ]
     },
     "execution_count": 5,
     "metadata": {},
     "output_type": "execute_result"
    }
   ],
   "source": [
    "'spam'*3"
   ]
  },
  {
   "cell_type": "markdown",
   "id": "b9e3325b",
   "metadata": {},
   "source": [
    "8. Why is eggs a valid variable name while 100 is invalid?"
   ]
  },
  {
   "cell_type": "markdown",
   "id": "c3ce5bc7",
   "metadata": {},
   "source": [
    "### varible names cannot be literal, literal is the constant value cannot assign to constant variable"
   ]
  },
  {
   "cell_type": "markdown",
   "id": "912dad7b",
   "metadata": {},
   "source": [
    "9. What three functions can be used to get the integer, floating-point number, or string\n",
    "version of a value?"
   ]
  },
  {
   "cell_type": "markdown",
   "id": "75ddaa3e",
   "metadata": {},
   "source": [
    "### int(), float(), str()"
   ]
  },
  {
   "cell_type": "markdown",
   "id": "ff64bd3c",
   "metadata": {},
   "source": [
    "10. Why does this expression cause an error? How can you fix it?\n",
    "&#39;I have eaten &#39; + 99 + &#39; burritos.&#39;"
   ]
  },
  {
   "cell_type": "markdown",
   "id": "6d77192f",
   "metadata": {},
   "source": [
    "### strings cannot concatenate with integer, we can convert int value into str and get result like mentioned below\n",
    "### 'I have eaten'+str(99)+'burritos'"
   ]
  },
  {
   "cell_type": "code",
   "execution_count": 7,
   "id": "3c8929db",
   "metadata": {},
   "outputs": [
    {
     "data": {
      "text/plain": [
       "'I have eaten99burritos'"
      ]
     },
     "execution_count": 7,
     "metadata": {},
     "output_type": "execute_result"
    }
   ],
   "source": [
    "'I have eaten'+str(99)+'burritos'"
   ]
  }
 ],
 "metadata": {
  "kernelspec": {
   "display_name": "Python 3 (ipykernel)",
   "language": "python",
   "name": "python3"
  },
  "language_info": {
   "codemirror_mode": {
    "name": "ipython",
    "version": 3
   },
   "file_extension": ".py",
   "mimetype": "text/x-python",
   "name": "python",
   "nbconvert_exporter": "python",
   "pygments_lexer": "ipython3",
   "version": "3.9.7"
  }
 },
 "nbformat": 4,
 "nbformat_minor": 5
}
