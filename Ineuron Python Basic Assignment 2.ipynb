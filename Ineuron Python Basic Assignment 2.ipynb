{
 "cells": [
  {
   "cell_type": "markdown",
   "id": "38b50160",
   "metadata": {},
   "source": [
    "## 1.What are the two values of the Boolean data type? How do you write them?"
   ]
  },
  {
   "cell_type": "markdown",
   "id": "c94bb0bf",
   "metadata": {},
   "source": [
    "#### True and False"
   ]
  },
  {
   "cell_type": "code",
   "execution_count": 3,
   "id": "26f51073",
   "metadata": {},
   "outputs": [
    {
     "data": {
      "text/plain": [
       "(True, False)"
      ]
     },
     "execution_count": 3,
     "metadata": {},
     "output_type": "execute_result"
    }
   ],
   "source": [
    "True, False"
   ]
  },
  {
   "cell_type": "markdown",
   "id": "8e7b7978",
   "metadata": {},
   "source": [
    "## 2. What are the three different types of Boolean operators?"
   ]
  },
  {
   "cell_type": "markdown",
   "id": "42a1c4b7",
   "metadata": {},
   "source": [
    "#### And , Or, Not"
   ]
  },
  {
   "cell_type": "markdown",
   "id": "e7622c02",
   "metadata": {},
   "source": [
    "## 3. Make a list of each Boolean operator&#39;s truth tables (i.e. every possible combination of Boolean values for the operator and what it evaluate )."
   ]
  },
  {
   "cell_type": "markdown",
   "id": "cbd90e46",
   "metadata": {},
   "source": [
    "#### Truth Table is Mentioned Below\n",
    "#### True + True =  True\n",
    "#### True + False = False\n",
    "#### False + True = False\n",
    "#### False + False = False\n",
    "\n",
    "\n",
    "#### Boolean Operator's Truth Table\n",
    "#### And Truth Table\n",
    "#### True + True =  True\n",
    "#### True + False = False\n",
    "#### False + True = False\n",
    "#### False + False = False\n",
    "\n",
    "\n",
    "#### Or Truth Table\n",
    "#### True + True = True\n",
    "#### True + False = True\n",
    "#### False + True = True\n",
    "#### False + False = False\n",
    "\n",
    "\n",
    "#### Not Truth Table\n",
    "#### True - False\n",
    "#### False - True\n",
    "\n",
    "\n",
    "#### XOR Truth Table\n",
    "#### True + True = False\n",
    "#### True + False = True\n",
    "#### False + True = True\n",
    "#### False + False = False"
   ]
  },
  {
   "cell_type": "markdown",
   "id": "1d479105",
   "metadata": {},
   "source": [
    "## 4. What are the values of the following expressions?\n",
    "## (5 &gt; 4) and (3 == 5)\n",
    "## not (5 &gt; 4)\n",
    "## (5 &gt; 4) or (3 == 5)\n",
    "## not ((5 &gt; 4) or (3 == 5))\n",
    "## (True and True) and (True == False)\n",
    "## (not False) or (not True)"
   ]
  },
  {
   "cell_type": "code",
   "execution_count": 4,
   "id": "e275d9cc",
   "metadata": {},
   "outputs": [
    {
     "data": {
      "text/plain": [
       "False"
      ]
     },
     "execution_count": 4,
     "metadata": {},
     "output_type": "execute_result"
    }
   ],
   "source": [
    "(5>4) and (3==5)"
   ]
  },
  {
   "cell_type": "code",
   "execution_count": 5,
   "id": "5488725b",
   "metadata": {},
   "outputs": [
    {
     "data": {
      "text/plain": [
       "False"
      ]
     },
     "execution_count": 5,
     "metadata": {},
     "output_type": "execute_result"
    }
   ],
   "source": [
    "not(5>4)"
   ]
  },
  {
   "cell_type": "code",
   "execution_count": 6,
   "id": "fe4d41f8",
   "metadata": {},
   "outputs": [
    {
     "data": {
      "text/plain": [
       "True"
      ]
     },
     "execution_count": 6,
     "metadata": {},
     "output_type": "execute_result"
    }
   ],
   "source": [
    "(5>4) or (3==5)"
   ]
  },
  {
   "cell_type": "code",
   "execution_count": 9,
   "id": "5dfd410d",
   "metadata": {},
   "outputs": [
    {
     "data": {
      "text/plain": [
       "False"
      ]
     },
     "execution_count": 9,
     "metadata": {},
     "output_type": "execute_result"
    }
   ],
   "source": [
    "not((5>4) or (3==5))"
   ]
  },
  {
   "cell_type": "code",
   "execution_count": 10,
   "id": "80b8eb6f",
   "metadata": {},
   "outputs": [
    {
     "data": {
      "text/plain": [
       "False"
      ]
     },
     "execution_count": 10,
     "metadata": {},
     "output_type": "execute_result"
    }
   ],
   "source": [
    "(True and True)  and (True == False)"
   ]
  },
  {
   "cell_type": "code",
   "execution_count": 11,
   "id": "702d9a72",
   "metadata": {},
   "outputs": [
    {
     "data": {
      "text/plain": [
       "True"
      ]
     },
     "execution_count": 11,
     "metadata": {},
     "output_type": "execute_result"
    }
   ],
   "source": [
    "(not False) or (not True)"
   ]
  },
  {
   "cell_type": "markdown",
   "id": "78d53251",
   "metadata": {},
   "source": [
    "## 5. What are the six comparison operators?"
   ]
  },
  {
   "cell_type": "markdown",
   "id": "d101ddba",
   "metadata": {},
   "source": [
    "####  >, <, >=, <=, ==, !="
   ]
  },
  {
   "cell_type": "markdown",
   "id": "81b522ab",
   "metadata": {},
   "source": [
    "## 6. How do you tell the difference between the equal to and assignment operators?Describe a condition and when you would use one."
   ]
  },
  {
   "cell_type": "markdown",
   "id": "2dc160c5",
   "metadata": {},
   "source": [
    "#### Equal to(=) is to assign the value to a variable and Assignment operator(==) is to compare two values if both are equal it will return 1 or True else will return 0 or False"
   ]
  },
  {
   "cell_type": "code",
   "execution_count": 13,
   "id": "eb4c6792",
   "metadata": {},
   "outputs": [
    {
     "name": "stdout",
     "output_type": "stream",
     "text": [
      "10\n"
     ]
    },
    {
     "data": {
      "text/plain": [
       "False"
      ]
     },
     "execution_count": 13,
     "metadata": {},
     "output_type": "execute_result"
    }
   ],
   "source": [
    "# Equal to operator\n",
    "a = 10\n",
    "print(a)\n",
    "# Assignment operator\n",
    "3 == 5"
   ]
  },
  {
   "cell_type": "markdown",
   "id": "df0f6312",
   "metadata": {},
   "source": [
    "## 7. Identify the three blocks in this code:\n",
    "## spam = 0\n",
    "## if spam == 10:\n",
    "## print(&#39;eggs&#39;)\n",
    "## if spam &gt; 5:\n",
    "## print(&#39;bacon&#39;)\n",
    "## else:\n",
    "## print(&#39;ham&#39;)\n",
    "## print(&#39;spam&#39;)\n",
    "## print(&#39;spam&#39;)"
   ]
  },
  {
   "cell_type": "code",
   "execution_count": 13,
   "id": "eb7ebdb4",
   "metadata": {},
   "outputs": [
    {
     "name": "stdout",
     "output_type": "stream",
     "text": [
      "ham\n"
     ]
    }
   ],
   "source": [
    "spam = 0\n",
    "if spam == 10:\n",
    "    print('eggs')\n",
    "if spam > 5:\n",
    "    print('bacon')\n",
    "else:\n",
    "    print('ham')"
   ]
  },
  {
   "cell_type": "markdown",
   "id": "6025d239",
   "metadata": {},
   "source": [
    "## 8. Write code that prints Hello if 1 is stored in spam, prints Howdy if 2 is stored in spam, and prints Greetings! if anything else is stored in spam."
   ]
  },
  {
   "cell_type": "code",
   "execution_count": 1,
   "id": "ddafe1ae",
   "metadata": {},
   "outputs": [
    {
     "name": "stdout",
     "output_type": "stream",
     "text": [
      "3\n",
      "Greetings!\n"
     ]
    }
   ],
   "source": [
    "spam = int(input())\n",
    "if spam == 1:\n",
    "    print(\"Hello\")\n",
    "elif spam == 2:\n",
    "    print('Howdy')\n",
    "else:\n",
    "    print('Greetings!')"
   ]
  },
  {
   "cell_type": "code",
   "execution_count": 2,
   "id": "b9cd0f1a",
   "metadata": {},
   "outputs": [
    {
     "name": "stdout",
     "output_type": "stream",
     "text": [
      "1\n",
      "Hello\n"
     ]
    }
   ],
   "source": [
    "spam = int(input())\n",
    "if spam == 1:\n",
    "    print(\"Hello\")\n",
    "elif spam == 2:\n",
    "    print('Howdy')\n",
    "else:\n",
    "    print('Greetings!')"
   ]
  },
  {
   "cell_type": "code",
   "execution_count": 3,
   "id": "d8d56207",
   "metadata": {},
   "outputs": [
    {
     "name": "stdout",
     "output_type": "stream",
     "text": [
      "2\n",
      "Howdy\n"
     ]
    }
   ],
   "source": [
    "spam = int(input())\n",
    "if spam == 1:\n",
    "    print(\"Hello\")\n",
    "elif spam == 2:\n",
    "    print('Howdy')\n",
    "else:\n",
    "    print('Greetings!')"
   ]
  },
  {
   "cell_type": "markdown",
   "id": "17b3ddb8",
   "metadata": {},
   "source": [
    "## 9.If your programme is stuck in an endless loop, what keys you’ll press?"
   ]
  },
  {
   "cell_type": "markdown",
   "id": "39b0477d",
   "metadata": {},
   "source": [
    "#### Ctrl + C"
   ]
  },
  {
   "cell_type": "markdown",
   "id": "b4e1b6eb",
   "metadata": {},
   "source": [
    "## 10. How can you tell the difference between break and continue?"
   ]
  },
  {
   "cell_type": "markdown",
   "id": "70326dd5",
   "metadata": {},
   "source": [
    "#### Break is used for Exit from the Loop, and Continue is used for not to exit from the loop"
   ]
  },
  {
   "cell_type": "markdown",
   "id": "96920aca",
   "metadata": {},
   "source": [
    "## 11. In a for loop, what is the difference between range(10), range(0, 10), and range(0, 10, 1)?"
   ]
  },
  {
   "cell_type": "markdown",
   "id": "ca564252",
   "metadata": {},
   "source": [
    "#### syntax of range is range (start,stop,[step])\n",
    "#### range(10) is in for loop 10 in range indicates stop value\n",
    "#### range(0,10) in for loop 0 in range indicates start value and 10 in range indicates stop value it will except -1 value from stop number\n",
    "#### range(0,10,1) in for loop 0 in range indicates start value and 10 in range indicates stop value it will except -1 value from stop number and 1 inicates step value\n",
    "#### overall coming to output there is no difference for the above question"
   ]
  },
  {
   "cell_type": "code",
   "execution_count": 4,
   "id": "ec553b06",
   "metadata": {},
   "outputs": [
    {
     "name": "stdout",
     "output_type": "stream",
     "text": [
      "0\n",
      "1\n",
      "2\n",
      "3\n",
      "4\n",
      "5\n",
      "6\n",
      "7\n",
      "8\n",
      "9\n",
      "0\n",
      "1\n",
      "2\n",
      "3\n",
      "4\n",
      "5\n",
      "6\n",
      "7\n",
      "8\n",
      "9\n",
      "0\n",
      "1\n",
      "2\n",
      "3\n",
      "4\n",
      "5\n",
      "6\n",
      "7\n",
      "8\n",
      "9\n"
     ]
    }
   ],
   "source": [
    "for i in range(10):\n",
    "    print(i)\n",
    "for i in range(0,10):\n",
    "    print(i)\n",
    "for i in range(0,10,1):\n",
    "    print(i)"
   ]
  },
  {
   "cell_type": "markdown",
   "id": "41e5358c",
   "metadata": {},
   "source": [
    "## 12. Write a short program that prints the numbers 1 to 10 using a for loop. Then write an equivalent program that prints the numbers 1 to 10 using a while loop."
   ]
  },
  {
   "cell_type": "code",
   "execution_count": 7,
   "id": "95afae63",
   "metadata": {},
   "outputs": [
    {
     "name": "stdout",
     "output_type": "stream",
     "text": [
      "1\n",
      "2\n",
      "3\n",
      "4\n",
      "5\n",
      "6\n",
      "7\n",
      "8\n",
      "9\n",
      "10\n"
     ]
    }
   ],
   "source": [
    "for i in range(1,11):\n",
    "    print(i)"
   ]
  },
  {
   "cell_type": "code",
   "execution_count": 8,
   "id": "670dca9c",
   "metadata": {},
   "outputs": [
    {
     "name": "stdout",
     "output_type": "stream",
     "text": [
      "1\n",
      "2\n",
      "3\n",
      "4\n",
      "5\n",
      "6\n",
      "7\n",
      "8\n",
      "9\n",
      "10\n"
     ]
    }
   ],
   "source": [
    "i = 1\n",
    "while i < 11:\n",
    "  print(i)\n",
    "  i += 1"
   ]
  },
  {
   "cell_type": "markdown",
   "id": "91121023",
   "metadata": {},
   "source": [
    "## 13. If you had a function named bacon() inside a module named spam, how would you call it after importing spam?"
   ]
  },
  {
   "cell_type": "markdown",
   "id": "cd7e8eee",
   "metadata": {},
   "source": [
    "#### spam.bacon()"
   ]
  }
 ],
 "metadata": {
  "kernelspec": {
   "display_name": "Python 3 (ipykernel)",
   "language": "python",
   "name": "python3"
  },
  "language_info": {
   "codemirror_mode": {
    "name": "ipython",
    "version": 3
   },
   "file_extension": ".py",
   "mimetype": "text/x-python",
   "name": "python",
   "nbconvert_exporter": "python",
   "pygments_lexer": "ipython3",
   "version": "3.9.7"
  }
 },
 "nbformat": 4,
 "nbformat_minor": 5
}
